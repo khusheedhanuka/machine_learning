{
  "cells": [
    {
      "cell_type": "markdown",
      "metadata": {
        "id": "view-in-github",
        "colab_type": "text"
      },
      "source": [
        "<a href=\"https://colab.research.google.com/github/khusheedhanuka/machine_learning/blob/main/VanillaRNN_and_BiRNN.ipynb\" target=\"_parent\"><img src=\"https://colab.research.google.com/assets/colab-badge.svg\" alt=\"Open In Colab\"/></a>"
      ]
    },
    {
      "cell_type": "code",
      "execution_count": null,
      "metadata": {
        "id": "5RTmFFTuR12w"
      },
      "outputs": [],
      "source": [
        "\n",
        "\n",
        "from keras.models import Sequential\n",
        "from keras.layers import Dense,SimpleRNN\n",
        "from keras.layers import Activation,Embedding,Flatten\n",
        "from keras.layers import Dropout\n",
        "from keras.optimizers import Adam\n",
        "import pandas as pd\n"
      ]
    },
    {
      "cell_type": "code",
      "execution_count": null,
      "metadata": {
        "id": "30pTypICTbQ3"
      },
      "outputs": [],
      "source": [
        "!mkdir -p ~/.kaggle\n",
        "!cp kaggle.json ~/.kaggle/"
      ]
    },
    {
      "cell_type": "code",
      "execution_count": null,
      "metadata": {
        "colab": {
          "base_uri": "https://localhost:8080/"
        },
        "id": "YK3bgN_jTdNn",
        "outputId": "35234dad-976c-41d3-8b31-e358bed8f6d2"
      },
      "outputs": [
        {
          "output_type": "stream",
          "name": "stdout",
          "text": [
            "Warning: Your Kaggle API key is readable by other users on this system! To fix this, you can run 'chmod 600 /root/.kaggle/kaggle.json'\n",
            "imdb-movie-ratings-sentiment-analysis.zip: Skipping, found more recently modified local copy (use --force to force download)\n"
          ]
        }
      ],
      "source": [
        "!kaggle datasets download -d yasserh/imdb-movie-ratings-sentiment-analysis"
      ]
    },
    {
      "cell_type": "code",
      "execution_count": null,
      "metadata": {
        "id": "9UJsB5RCT4Qh"
      },
      "outputs": [],
      "source": [
        "import zipfile\n",
        "zip_ref = zipfile.ZipFile('/content/imdb-movie-ratings-sentiment-analysis.zip', 'r')\n",
        "zip_ref.extractall('/content')\n",
        "zip_ref.close()"
      ]
    },
    {
      "cell_type": "code",
      "execution_count": null,
      "metadata": {
        "id": "nIZwyoUyUCMc"
      },
      "outputs": [],
      "source": [
        "data=pd.read_csv('/content/movie.csv')\n",
        "\n"
      ]
    },
    {
      "cell_type": "code",
      "execution_count": null,
      "metadata": {
        "colab": {
          "base_uri": "https://localhost:8080/",
          "height": 423
        },
        "id": "i5H5hweYUL4g",
        "outputId": "c792e5e3-057d-4447-d366-801b12c38ae9"
      },
      "outputs": [
        {
          "output_type": "execute_result",
          "data": {
            "text/plain": [
              "                                                    text  label\n",
              "0      I grew up (b. 1965) watching and loving the Th...      0\n",
              "1      When I put this movie in my DVD player, and sa...      0\n",
              "2      Why do people who do not know what a particula...      0\n",
              "3      Even though I have great interest in Biblical ...      0\n",
              "4      Im a die hard Dads Army fan and nothing will e...      1\n",
              "...                                                  ...    ...\n",
              "39995  \"Western Union\" is something of a forgotten cl...      1\n",
              "39996  This movie is an incredible piece of work. It ...      1\n",
              "39997  My wife and I watched this movie because we pl...      0\n",
              "39998  When I first watched Flatliners, I was amazed....      1\n",
              "39999  Why would this film be so good, but only gross...      1\n",
              "\n",
              "[40000 rows x 2 columns]"
            ],
            "text/html": [
              "\n",
              "  <div id=\"df-985d0a48-9cf2-4738-a332-955558c8f360\" class=\"colab-df-container\">\n",
              "    <div>\n",
              "<style scoped>\n",
              "    .dataframe tbody tr th:only-of-type {\n",
              "        vertical-align: middle;\n",
              "    }\n",
              "\n",
              "    .dataframe tbody tr th {\n",
              "        vertical-align: top;\n",
              "    }\n",
              "\n",
              "    .dataframe thead th {\n",
              "        text-align: right;\n",
              "    }\n",
              "</style>\n",
              "<table border=\"1\" class=\"dataframe\">\n",
              "  <thead>\n",
              "    <tr style=\"text-align: right;\">\n",
              "      <th></th>\n",
              "      <th>text</th>\n",
              "      <th>label</th>\n",
              "    </tr>\n",
              "  </thead>\n",
              "  <tbody>\n",
              "    <tr>\n",
              "      <th>0</th>\n",
              "      <td>I grew up (b. 1965) watching and loving the Th...</td>\n",
              "      <td>0</td>\n",
              "    </tr>\n",
              "    <tr>\n",
              "      <th>1</th>\n",
              "      <td>When I put this movie in my DVD player, and sa...</td>\n",
              "      <td>0</td>\n",
              "    </tr>\n",
              "    <tr>\n",
              "      <th>2</th>\n",
              "      <td>Why do people who do not know what a particula...</td>\n",
              "      <td>0</td>\n",
              "    </tr>\n",
              "    <tr>\n",
              "      <th>3</th>\n",
              "      <td>Even though I have great interest in Biblical ...</td>\n",
              "      <td>0</td>\n",
              "    </tr>\n",
              "    <tr>\n",
              "      <th>4</th>\n",
              "      <td>Im a die hard Dads Army fan and nothing will e...</td>\n",
              "      <td>1</td>\n",
              "    </tr>\n",
              "    <tr>\n",
              "      <th>...</th>\n",
              "      <td>...</td>\n",
              "      <td>...</td>\n",
              "    </tr>\n",
              "    <tr>\n",
              "      <th>39995</th>\n",
              "      <td>\"Western Union\" is something of a forgotten cl...</td>\n",
              "      <td>1</td>\n",
              "    </tr>\n",
              "    <tr>\n",
              "      <th>39996</th>\n",
              "      <td>This movie is an incredible piece of work. It ...</td>\n",
              "      <td>1</td>\n",
              "    </tr>\n",
              "    <tr>\n",
              "      <th>39997</th>\n",
              "      <td>My wife and I watched this movie because we pl...</td>\n",
              "      <td>0</td>\n",
              "    </tr>\n",
              "    <tr>\n",
              "      <th>39998</th>\n",
              "      <td>When I first watched Flatliners, I was amazed....</td>\n",
              "      <td>1</td>\n",
              "    </tr>\n",
              "    <tr>\n",
              "      <th>39999</th>\n",
              "      <td>Why would this film be so good, but only gross...</td>\n",
              "      <td>1</td>\n",
              "    </tr>\n",
              "  </tbody>\n",
              "</table>\n",
              "<p>40000 rows × 2 columns</p>\n",
              "</div>\n",
              "    <div class=\"colab-df-buttons\">\n",
              "\n",
              "  <div class=\"colab-df-container\">\n",
              "    <button class=\"colab-df-convert\" onclick=\"convertToInteractive('df-985d0a48-9cf2-4738-a332-955558c8f360')\"\n",
              "            title=\"Convert this dataframe to an interactive table.\"\n",
              "            style=\"display:none;\">\n",
              "\n",
              "  <svg xmlns=\"http://www.w3.org/2000/svg\" height=\"24px\" viewBox=\"0 -960 960 960\">\n",
              "    <path d=\"M120-120v-720h720v720H120Zm60-500h600v-160H180v160Zm220 220h160v-160H400v160Zm0 220h160v-160H400v160ZM180-400h160v-160H180v160Zm440 0h160v-160H620v160ZM180-180h160v-160H180v160Zm440 0h160v-160H620v160Z\"/>\n",
              "  </svg>\n",
              "    </button>\n",
              "\n",
              "  <style>\n",
              "    .colab-df-container {\n",
              "      display:flex;\n",
              "      gap: 12px;\n",
              "    }\n",
              "\n",
              "    .colab-df-convert {\n",
              "      background-color: #E8F0FE;\n",
              "      border: none;\n",
              "      border-radius: 50%;\n",
              "      cursor: pointer;\n",
              "      display: none;\n",
              "      fill: #1967D2;\n",
              "      height: 32px;\n",
              "      padding: 0 0 0 0;\n",
              "      width: 32px;\n",
              "    }\n",
              "\n",
              "    .colab-df-convert:hover {\n",
              "      background-color: #E2EBFA;\n",
              "      box-shadow: 0px 1px 2px rgba(60, 64, 67, 0.3), 0px 1px 3px 1px rgba(60, 64, 67, 0.15);\n",
              "      fill: #174EA6;\n",
              "    }\n",
              "\n",
              "    .colab-df-buttons div {\n",
              "      margin-bottom: 4px;\n",
              "    }\n",
              "\n",
              "    [theme=dark] .colab-df-convert {\n",
              "      background-color: #3B4455;\n",
              "      fill: #D2E3FC;\n",
              "    }\n",
              "\n",
              "    [theme=dark] .colab-df-convert:hover {\n",
              "      background-color: #434B5C;\n",
              "      box-shadow: 0px 1px 3px 1px rgba(0, 0, 0, 0.15);\n",
              "      filter: drop-shadow(0px 1px 2px rgba(0, 0, 0, 0.3));\n",
              "      fill: #FFFFFF;\n",
              "    }\n",
              "  </style>\n",
              "\n",
              "    <script>\n",
              "      const buttonEl =\n",
              "        document.querySelector('#df-985d0a48-9cf2-4738-a332-955558c8f360 button.colab-df-convert');\n",
              "      buttonEl.style.display =\n",
              "        google.colab.kernel.accessAllowed ? 'block' : 'none';\n",
              "\n",
              "      async function convertToInteractive(key) {\n",
              "        const element = document.querySelector('#df-985d0a48-9cf2-4738-a332-955558c8f360');\n",
              "        const dataTable =\n",
              "          await google.colab.kernel.invokeFunction('convertToInteractive',\n",
              "                                                    [key], {});\n",
              "        if (!dataTable) return;\n",
              "\n",
              "        const docLinkHtml = 'Like what you see? Visit the ' +\n",
              "          '<a target=\"_blank\" href=https://colab.research.google.com/notebooks/data_table.ipynb>data table notebook</a>'\n",
              "          + ' to learn more about interactive tables.';\n",
              "        element.innerHTML = '';\n",
              "        dataTable['output_type'] = 'display_data';\n",
              "        await google.colab.output.renderOutput(dataTable, element);\n",
              "        const docLink = document.createElement('div');\n",
              "        docLink.innerHTML = docLinkHtml;\n",
              "        element.appendChild(docLink);\n",
              "      }\n",
              "    </script>\n",
              "  </div>\n",
              "\n",
              "\n",
              "<div id=\"df-4acf97a2-4400-4dd0-9460-5fa8201ead4d\">\n",
              "  <button class=\"colab-df-quickchart\" onclick=\"quickchart('df-4acf97a2-4400-4dd0-9460-5fa8201ead4d')\"\n",
              "            title=\"Suggest charts\"\n",
              "            style=\"display:none;\">\n",
              "\n",
              "<svg xmlns=\"http://www.w3.org/2000/svg\" height=\"24px\"viewBox=\"0 0 24 24\"\n",
              "     width=\"24px\">\n",
              "    <g>\n",
              "        <path d=\"M19 3H5c-1.1 0-2 .9-2 2v14c0 1.1.9 2 2 2h14c1.1 0 2-.9 2-2V5c0-1.1-.9-2-2-2zM9 17H7v-7h2v7zm4 0h-2V7h2v10zm4 0h-2v-4h2v4z\"/>\n",
              "    </g>\n",
              "</svg>\n",
              "  </button>\n",
              "\n",
              "<style>\n",
              "  .colab-df-quickchart {\n",
              "      --bg-color: #E8F0FE;\n",
              "      --fill-color: #1967D2;\n",
              "      --hover-bg-color: #E2EBFA;\n",
              "      --hover-fill-color: #174EA6;\n",
              "      --disabled-fill-color: #AAA;\n",
              "      --disabled-bg-color: #DDD;\n",
              "  }\n",
              "\n",
              "  [theme=dark] .colab-df-quickchart {\n",
              "      --bg-color: #3B4455;\n",
              "      --fill-color: #D2E3FC;\n",
              "      --hover-bg-color: #434B5C;\n",
              "      --hover-fill-color: #FFFFFF;\n",
              "      --disabled-bg-color: #3B4455;\n",
              "      --disabled-fill-color: #666;\n",
              "  }\n",
              "\n",
              "  .colab-df-quickchart {\n",
              "    background-color: var(--bg-color);\n",
              "    border: none;\n",
              "    border-radius: 50%;\n",
              "    cursor: pointer;\n",
              "    display: none;\n",
              "    fill: var(--fill-color);\n",
              "    height: 32px;\n",
              "    padding: 0;\n",
              "    width: 32px;\n",
              "  }\n",
              "\n",
              "  .colab-df-quickchart:hover {\n",
              "    background-color: var(--hover-bg-color);\n",
              "    box-shadow: 0 1px 2px rgba(60, 64, 67, 0.3), 0 1px 3px 1px rgba(60, 64, 67, 0.15);\n",
              "    fill: var(--button-hover-fill-color);\n",
              "  }\n",
              "\n",
              "  .colab-df-quickchart-complete:disabled,\n",
              "  .colab-df-quickchart-complete:disabled:hover {\n",
              "    background-color: var(--disabled-bg-color);\n",
              "    fill: var(--disabled-fill-color);\n",
              "    box-shadow: none;\n",
              "  }\n",
              "\n",
              "  .colab-df-spinner {\n",
              "    border: 2px solid var(--fill-color);\n",
              "    border-color: transparent;\n",
              "    border-bottom-color: var(--fill-color);\n",
              "    animation:\n",
              "      spin 1s steps(1) infinite;\n",
              "  }\n",
              "\n",
              "  @keyframes spin {\n",
              "    0% {\n",
              "      border-color: transparent;\n",
              "      border-bottom-color: var(--fill-color);\n",
              "      border-left-color: var(--fill-color);\n",
              "    }\n",
              "    20% {\n",
              "      border-color: transparent;\n",
              "      border-left-color: var(--fill-color);\n",
              "      border-top-color: var(--fill-color);\n",
              "    }\n",
              "    30% {\n",
              "      border-color: transparent;\n",
              "      border-left-color: var(--fill-color);\n",
              "      border-top-color: var(--fill-color);\n",
              "      border-right-color: var(--fill-color);\n",
              "    }\n",
              "    40% {\n",
              "      border-color: transparent;\n",
              "      border-right-color: var(--fill-color);\n",
              "      border-top-color: var(--fill-color);\n",
              "    }\n",
              "    60% {\n",
              "      border-color: transparent;\n",
              "      border-right-color: var(--fill-color);\n",
              "    }\n",
              "    80% {\n",
              "      border-color: transparent;\n",
              "      border-right-color: var(--fill-color);\n",
              "      border-bottom-color: var(--fill-color);\n",
              "    }\n",
              "    90% {\n",
              "      border-color: transparent;\n",
              "      border-bottom-color: var(--fill-color);\n",
              "    }\n",
              "  }\n",
              "</style>\n",
              "\n",
              "  <script>\n",
              "    async function quickchart(key) {\n",
              "      const quickchartButtonEl =\n",
              "        document.querySelector('#' + key + ' button');\n",
              "      quickchartButtonEl.disabled = true;  // To prevent multiple clicks.\n",
              "      quickchartButtonEl.classList.add('colab-df-spinner');\n",
              "      try {\n",
              "        const charts = await google.colab.kernel.invokeFunction(\n",
              "            'suggestCharts', [key], {});\n",
              "      } catch (error) {\n",
              "        console.error('Error during call to suggestCharts:', error);\n",
              "      }\n",
              "      quickchartButtonEl.classList.remove('colab-df-spinner');\n",
              "      quickchartButtonEl.classList.add('colab-df-quickchart-complete');\n",
              "    }\n",
              "    (() => {\n",
              "      let quickchartButtonEl =\n",
              "        document.querySelector('#df-4acf97a2-4400-4dd0-9460-5fa8201ead4d button');\n",
              "      quickchartButtonEl.style.display =\n",
              "        google.colab.kernel.accessAllowed ? 'block' : 'none';\n",
              "    })();\n",
              "  </script>\n",
              "</div>\n",
              "\n",
              "  <div id=\"id_ee2f1ae1-dd0a-4b08-a133-00af969b216e\">\n",
              "    <style>\n",
              "      .colab-df-generate {\n",
              "        background-color: #E8F0FE;\n",
              "        border: none;\n",
              "        border-radius: 50%;\n",
              "        cursor: pointer;\n",
              "        display: none;\n",
              "        fill: #1967D2;\n",
              "        height: 32px;\n",
              "        padding: 0 0 0 0;\n",
              "        width: 32px;\n",
              "      }\n",
              "\n",
              "      .colab-df-generate:hover {\n",
              "        background-color: #E2EBFA;\n",
              "        box-shadow: 0px 1px 2px rgba(60, 64, 67, 0.3), 0px 1px 3px 1px rgba(60, 64, 67, 0.15);\n",
              "        fill: #174EA6;\n",
              "      }\n",
              "\n",
              "      [theme=dark] .colab-df-generate {\n",
              "        background-color: #3B4455;\n",
              "        fill: #D2E3FC;\n",
              "      }\n",
              "\n",
              "      [theme=dark] .colab-df-generate:hover {\n",
              "        background-color: #434B5C;\n",
              "        box-shadow: 0px 1px 3px 1px rgba(0, 0, 0, 0.15);\n",
              "        filter: drop-shadow(0px 1px 2px rgba(0, 0, 0, 0.3));\n",
              "        fill: #FFFFFF;\n",
              "      }\n",
              "    </style>\n",
              "    <button class=\"colab-df-generate\" onclick=\"generateWithVariable('data')\"\n",
              "            title=\"Generate code using this dataframe.\"\n",
              "            style=\"display:none;\">\n",
              "\n",
              "  <svg xmlns=\"http://www.w3.org/2000/svg\" height=\"24px\"viewBox=\"0 0 24 24\"\n",
              "       width=\"24px\">\n",
              "    <path d=\"M7,19H8.4L18.45,9,17,7.55,7,17.6ZM5,21V16.75L18.45,3.32a2,2,0,0,1,2.83,0l1.4,1.43a1.91,1.91,0,0,1,.58,1.4,1.91,1.91,0,0,1-.58,1.4L9.25,21ZM18.45,9,17,7.55Zm-12,3A5.31,5.31,0,0,0,4.9,8.1,5.31,5.31,0,0,0,1,6.5,5.31,5.31,0,0,0,4.9,4.9,5.31,5.31,0,0,0,6.5,1,5.31,5.31,0,0,0,8.1,4.9,5.31,5.31,0,0,0,12,6.5,5.46,5.46,0,0,0,6.5,12Z\"/>\n",
              "  </svg>\n",
              "    </button>\n",
              "    <script>\n",
              "      (() => {\n",
              "      const buttonEl =\n",
              "        document.querySelector('#id_ee2f1ae1-dd0a-4b08-a133-00af969b216e button.colab-df-generate');\n",
              "      buttonEl.style.display =\n",
              "        google.colab.kernel.accessAllowed ? 'block' : 'none';\n",
              "\n",
              "      buttonEl.onclick = () => {\n",
              "        google.colab.notebook.generateWithVariable('data');\n",
              "      }\n",
              "      })();\n",
              "    </script>\n",
              "  </div>\n",
              "\n",
              "    </div>\n",
              "  </div>\n"
            ]
          },
          "metadata": {},
          "execution_count": 35
        }
      ],
      "source": [
        "data\n"
      ]
    },
    {
      "cell_type": "code",
      "execution_count": null,
      "metadata": {
        "colab": {
          "base_uri": "https://localhost:8080/"
        },
        "id": "E34bMV_fUQLk",
        "outputId": "5421a759-9bc2-4917-d5c1-f60a722a252c"
      },
      "outputs": [
        {
          "output_type": "execute_result",
          "data": {
            "text/plain": [
              "Index(['text', 'label'], dtype='object')"
            ]
          },
          "metadata": {},
          "execution_count": 36
        }
      ],
      "source": [
        "data.columns"
      ]
    },
    {
      "cell_type": "code",
      "execution_count": null,
      "metadata": {
        "id": "M2McyGmcUYs0"
      },
      "outputs": [],
      "source": [
        "X=data['text']\n",
        "y=data['label']\n"
      ]
    },
    {
      "cell_type": "code",
      "execution_count": null,
      "metadata": {
        "colab": {
          "base_uri": "https://localhost:8080/"
        },
        "id": "rzavMUyqY4Wl",
        "outputId": "49aaef1d-8663-490d-c5f2-9159bdcedf8d"
      },
      "outputs": [
        {
          "output_type": "execute_result",
          "data": {
            "text/plain": [
              "0        I grew up (b. 1965) watching and loving the Th...\n",
              "1        When I put this movie in my DVD player, and sa...\n",
              "2        Why do people who do not know what a particula...\n",
              "3        Even though I have great interest in Biblical ...\n",
              "4        Im a die hard Dads Army fan and nothing will e...\n",
              "                               ...                        \n",
              "39995    \"Western Union\" is something of a forgotten cl...\n",
              "39996    This movie is an incredible piece of work. It ...\n",
              "39997    My wife and I watched this movie because we pl...\n",
              "39998    When I first watched Flatliners, I was amazed....\n",
              "39999    Why would this film be so good, but only gross...\n",
              "Name: text, Length: 40000, dtype: object"
            ]
          },
          "metadata": {},
          "execution_count": 38
        }
      ],
      "source": [
        "X"
      ]
    },
    {
      "cell_type": "code",
      "execution_count": null,
      "metadata": {
        "colab": {
          "base_uri": "https://localhost:8080/"
        },
        "id": "S6zUDlYKZ-CY",
        "outputId": "72a81ce5-7144-4c58-c216-110e604e3db6"
      },
      "outputs": [
        {
          "output_type": "execute_result",
          "data": {
            "text/plain": [
              "(40000,)"
            ]
          },
          "metadata": {},
          "execution_count": 39
        }
      ],
      "source": [
        "X.shape"
      ]
    },
    {
      "cell_type": "code",
      "execution_count": null,
      "metadata": {
        "id": "jxCuoYClcra0"
      },
      "outputs": [],
      "source": [
        "from sklearn.model_selection import train_test_split\n",
        "\n",
        "X_train,X_test,y_train,y_test=train_test_split(X,y,test_size=0.20)"
      ]
    },
    {
      "cell_type": "code",
      "execution_count": null,
      "metadata": {
        "id": "cz5vPH02Z_d5"
      },
      "outputs": [],
      "source": [
        "from keras.preprocessing.text import Tokenizer\n",
        "\n",
        "tokenizer=Tokenizer(num_words=1000,lower=True)\n",
        "tokenizer.fit_on_texts(X_train)\n",
        "\n",
        "X_train=tokenizer.texts_to_sequences(X_train)\n",
        "X_test=tokenizer.texts_to_sequences(X_test)\n",
        "\n",
        "\n",
        "vocab=len(tokenizer.word_index)+1\n",
        "\n",
        "\n",
        "\n",
        "\n"
      ]
    },
    {
      "cell_type": "code",
      "execution_count": null,
      "metadata": {
        "colab": {
          "base_uri": "https://localhost:8080/"
        },
        "id": "MQ6ZYCOndmuu",
        "outputId": "e3b715d1-324c-4a0b-bc8d-1309f4b879a9"
      },
      "outputs": [
        {
          "output_type": "stream",
          "name": "stdout",
          "text": [
            "[15, 143, 12, 233, 69, 910, 9, 46, 6, 3, 8, 373, 117, 143, 12, 98, 23, 5, 5, 26, 27, 4, 143, 98, 7, 7, 250, 321, 4, 3, 246, 83, 17, 47, 650, 514, 1, 352, 18, 12, 149, 1, 241, 4, 12, 3, 19, 37, 11, 45, 74, 1, 64, 6, 405, 214, 96, 2, 5, 99, 144, 83, 25, 11, 19, 5, 1, 18, 143, 539, 4, 83, 23, 1, 12, 355, 5, 439, 104, 23, 808, 5, 1, 167, 581, 2, 696, 12, 1, 104, 18, 83, 459, 5, 25, 12, 46, 23, 228, 50, 76, 104, 72, 49, 653, 213, 18, 92, 213, 82, 7, 7, 87, 122, 1, 19, 6, 96, 8, 3, 246, 704, 4, 80, 24, 114, 100, 725, 151, 83, 5, 519, 37, 28, 111, 312, 1, 4, 263, 1, 868, 6, 208, 31, 3, 129, 61, 10, 78, 131, 13, 246, 1, 19, 310, 5, 3, 169, 4, 896, 749, 175, 1, 320, 12, 1, 78, 221, 53, 306, 8, 3, 50, 2, 50, 70, 189, 42, 95, 191, 9, 5, 20, 143, 175, 134, 1, 5, 47, 4, 24, 2, 392, 68, 945, 37, 858, 9, 289, 337, 18, 272, 73, 142, 538, 1, 19, 14, 137, 9, 213]\n"
          ]
        }
      ],
      "source": [
        "print(X_train[6])\n"
      ]
    },
    {
      "cell_type": "code",
      "execution_count": null,
      "metadata": {
        "id": "xBBtQOqQdpyG"
      },
      "outputs": [],
      "source": [
        "from keras.preprocessing.sequence import pad_sequences\n",
        "\n",
        "maxlen=200\n",
        "\n",
        "X_train=pad_sequences(X_train,padding='post',maxlen=maxlen)\n",
        "X_test=pad_sequences(X_test,padding='post',maxlen=maxlen)\n",
        "\n",
        "\n",
        "\n",
        "\n",
        "\n"
      ]
    },
    {
      "cell_type": "code",
      "execution_count": null,
      "metadata": {
        "id": "9LhfWwkze3xI",
        "colab": {
          "base_uri": "https://localhost:8080/"
        },
        "outputId": "75854da3-9eeb-4712-f88e-aaacd7db6ce6"
      },
      "outputs": [
        {
          "output_type": "execute_result",
          "data": {
            "text/plain": [
              "array([1., 0.], dtype=float32)"
            ]
          },
          "metadata": {},
          "execution_count": 44
        }
      ],
      "source": [
        "from keras.utils import to_categorical\n",
        "\n",
        "num_classes=2\n",
        "y_train=to_categorical(y_train,num_classes)\n",
        "y_test=to_categorical(y_test,num_classes)\n",
        "\n",
        "y_train[0]"
      ]
    },
    {
      "cell_type": "code",
      "execution_count": null,
      "metadata": {
        "id": "FHnGsN2UfUFP",
        "colab": {
          "base_uri": "https://localhost:8080/"
        },
        "outputId": "20a20454-7361-4619-fd26-4029b48f5ed6"
      },
      "outputs": [
        {
          "output_type": "stream",
          "name": "stdout",
          "text": [
            "Model: \"sequential_1\"\n",
            "_________________________________________________________________\n",
            " Layer (type)                Output Shape              Param #   \n",
            "=================================================================\n",
            " simple_rnn_1 (SimpleRNN)    (None, 200)               40400     \n",
            "                                                                 \n",
            " dense_1 (Dense)             (None, 2)                 402       \n",
            "                                                                 \n",
            " activation_1 (Activation)   (None, 2)                 0         \n",
            "                                                                 \n",
            "=================================================================\n",
            "Total params: 40802 (159.38 KB)\n",
            "Trainable params: 40802 (159.38 KB)\n",
            "Non-trainable params: 0 (0.00 Byte)\n",
            "_________________________________________________________________\n"
          ]
        }
      ],
      "source": [
        "model=Sequential()\n",
        "model.add(SimpleRNN(200,input_shape=(maxlen,1),return_sequences=False))\n",
        "model.add(Dense(num_classes))\n",
        "model.add(Activation('softmax'))\n",
        "model.compile(loss='categorical_crossentropy',optimizer= 'adam',metrics=['accuracy'])\n",
        "model.summary()"
      ]
    },
    {
      "cell_type": "code",
      "execution_count": null,
      "metadata": {
        "id": "qKDXzuZAgg7U",
        "colab": {
          "base_uri": "https://localhost:8080/"
        },
        "outputId": "17a966a6-9c06-4576-f063-000caf3c2d07"
      },
      "outputs": [
        {
          "output_type": "stream",
          "name": "stdout",
          "text": [
            "Epoch 1/30\n",
            "1000/1000 [==============================] - 49s 48ms/step - loss: 0.7119 - accuracy: 0.5031 - val_loss: 0.6943 - val_accuracy: 0.5015\n",
            "Epoch 2/30\n",
            "1000/1000 [==============================] - 47s 47ms/step - loss: 0.7033 - accuracy: 0.5042 - val_loss: 0.7012 - val_accuracy: 0.5090\n",
            "Epoch 3/30\n",
            "1000/1000 [==============================] - 45s 45ms/step - loss: 0.7032 - accuracy: 0.5036 - val_loss: 0.6966 - val_accuracy: 0.5100\n",
            "Epoch 4/30\n",
            "1000/1000 [==============================] - 46s 46ms/step - loss: 0.7021 - accuracy: 0.5036 - val_loss: 0.6922 - val_accuracy: 0.5206\n",
            "Epoch 5/30\n",
            "1000/1000 [==============================] - 48s 48ms/step - loss: 0.6990 - accuracy: 0.5070 - val_loss: 0.7014 - val_accuracy: 0.5117\n",
            "Epoch 6/30\n",
            "1000/1000 [==============================] - 47s 47ms/step - loss: 0.7023 - accuracy: 0.5017 - val_loss: 0.6962 - val_accuracy: 0.4882\n",
            "Epoch 7/30\n",
            "1000/1000 [==============================] - 46s 46ms/step - loss: 0.7023 - accuracy: 0.5004 - val_loss: 0.6940 - val_accuracy: 0.4889\n",
            "Epoch 8/30\n",
            "1000/1000 [==============================] - 53s 53ms/step - loss: 0.7009 - accuracy: 0.4993 - val_loss: 0.7019 - val_accuracy: 0.4874\n",
            "Epoch 9/30\n",
            "1000/1000 [==============================] - 49s 49ms/step - loss: 0.7001 - accuracy: 0.5037 - val_loss: 0.6944 - val_accuracy: 0.4859\n",
            "Epoch 10/30\n",
            "1000/1000 [==============================] - 49s 49ms/step - loss: 0.6987 - accuracy: 0.5008 - val_loss: 0.6950 - val_accuracy: 0.4874\n",
            "Epoch 11/30\n",
            "1000/1000 [==============================] - 52s 52ms/step - loss: 0.7006 - accuracy: 0.5037 - val_loss: 0.7089 - val_accuracy: 0.5131\n",
            "Epoch 12/30\n",
            "1000/1000 [==============================] - 51s 51ms/step - loss: 0.7003 - accuracy: 0.5031 - val_loss: 0.6963 - val_accuracy: 0.4874\n",
            "Epoch 13/30\n",
            "1000/1000 [==============================] - 49s 49ms/step - loss: 0.7009 - accuracy: 0.4958 - val_loss: 0.6931 - val_accuracy: 0.5182\n",
            "Epoch 14/30\n",
            "1000/1000 [==============================] - 51s 51ms/step - loss: 0.7009 - accuracy: 0.5002 - val_loss: 0.6959 - val_accuracy: 0.4896\n",
            "Epoch 15/30\n",
            "1000/1000 [==============================] - 50s 50ms/step - loss: 0.7010 - accuracy: 0.4998 - val_loss: 0.6961 - val_accuracy: 0.4897\n",
            "Epoch 16/30\n",
            "1000/1000 [==============================] - 53s 53ms/step - loss: 0.6989 - accuracy: 0.5025 - val_loss: 0.6928 - val_accuracy: 0.5175\n",
            "Epoch 17/30\n",
            "1000/1000 [==============================] - 56s 56ms/step - loss: 0.7002 - accuracy: 0.5043 - val_loss: 0.6926 - val_accuracy: 0.5160\n",
            "Epoch 18/30\n",
            "1000/1000 [==============================] - 53s 53ms/step - loss: 0.7002 - accuracy: 0.5006 - val_loss: 0.6926 - val_accuracy: 0.5178\n",
            "Epoch 19/30\n",
            "1000/1000 [==============================] - 55s 55ms/step - loss: 0.7017 - accuracy: 0.5018 - val_loss: 0.7272 - val_accuracy: 0.4874\n",
            "Epoch 20/30\n",
            "1000/1000 [==============================] - 53s 53ms/step - loss: 0.7023 - accuracy: 0.5055 - val_loss: 0.7017 - val_accuracy: 0.5126\n",
            "Epoch 21/30\n",
            "1000/1000 [==============================] - 52s 52ms/step - loss: 0.7017 - accuracy: 0.4993 - val_loss: 0.6933 - val_accuracy: 0.5155\n",
            "Epoch 22/30\n",
            "1000/1000 [==============================] - 57s 57ms/step - loss: 0.6986 - accuracy: 0.5041 - val_loss: 0.6944 - val_accuracy: 0.5188\n",
            "Epoch 23/30\n",
            "1000/1000 [==============================] - 55s 55ms/step - loss: 0.7014 - accuracy: 0.4992 - val_loss: 0.6944 - val_accuracy: 0.5148\n",
            "Epoch 24/30\n",
            "1000/1000 [==============================] - 49s 49ms/step - loss: 0.7006 - accuracy: 0.5062 - val_loss: 0.6939 - val_accuracy: 0.4874\n",
            "Epoch 25/30\n",
            "1000/1000 [==============================] - 54s 54ms/step - loss: 0.7019 - accuracy: 0.5023 - val_loss: 0.7070 - val_accuracy: 0.5126\n",
            "Epoch 26/30\n",
            "1000/1000 [==============================] - 52s 52ms/step - loss: 0.7006 - accuracy: 0.5018 - val_loss: 0.6930 - val_accuracy: 0.4874\n",
            "Epoch 27/30\n",
            "1000/1000 [==============================] - 51s 51ms/step - loss: 0.7011 - accuracy: 0.4987 - val_loss: 0.6932 - val_accuracy: 0.5191\n",
            "Epoch 28/30\n",
            "1000/1000 [==============================] - 50s 50ms/step - loss: 0.7002 - accuracy: 0.5082 - val_loss: 0.7083 - val_accuracy: 0.4874\n",
            "Epoch 29/30\n",
            "1000/1000 [==============================] - 52s 52ms/step - loss: 0.6990 - accuracy: 0.4980 - val_loss: 0.6945 - val_accuracy: 0.4874\n",
            "Epoch 30/30\n",
            "1000/1000 [==============================] - 51s 51ms/step - loss: 0.6994 - accuracy: 0.5049 - val_loss: 0.6959 - val_accuracy: 0.4874\n"
          ]
        },
        {
          "output_type": "execute_result",
          "data": {
            "text/plain": [
              "<keras.src.callbacks.History at 0x7a452d5f0760>"
            ]
          },
          "metadata": {},
          "execution_count": 46
        }
      ],
      "source": [
        "model.fit(X_train,y_train,epochs=30,validation_data=(X_test,y_test))"
      ]
    },
    {
      "cell_type": "code",
      "execution_count": null,
      "metadata": {
        "id": "Pq4V23zNoBks",
        "colab": {
          "base_uri": "https://localhost:8080/"
        },
        "outputId": "88d48eb4-a9c6-4e1f-dcfb-21c84acd140d"
      },
      "outputs": [
        {
          "output_type": "stream",
          "name": "stdout",
          "text": [
            "250/250 [==============================] - 4s 15ms/step\n",
            "0.487375\n"
          ]
        }
      ],
      "source": [
        "from sklearn.metrics import accuracy_score\n",
        "import numpy as np\n",
        "\n",
        "y_pred=model.predict(X_test)\n",
        "\n",
        "y_test_=np.argmax(y_test,axis=1)\n",
        "y_pred_=np.argmax(y_pred,axis=1)\n",
        "# print(y_test_.shape)\n",
        "# print(y_pred.shape)\n",
        "# # y_pred.reshape(8000,)\n",
        "# print(y_test_)\n",
        "print(accuracy_score(y_test_,y_pred_))\n",
        "\n",
        "\n",
        "\n"
      ]
    },
    {
      "cell_type": "code",
      "execution_count": null,
      "metadata": {
        "id": "03CxcACS1YPl"
      },
      "outputs": [],
      "source": [
        "# model2 = Sequential()\n",
        "# model2.add(Embedding(input_dim=200, output_dim=32, input_length=X_train.shape[1]))\n",
        "\n",
        "# model2.add(SimpleRNN(64,input_shape=(maxlen,1) ,return_sequences=True))\n",
        "\n",
        "# backward_rnn = SimpleRNN(64, return_sequences=True, go_backwards=True)\n",
        "# model2.add(backward_rnn)\n",
        "\n",
        "# model2.add(Flatten())\n",
        "\n",
        "\n",
        "# model2.add(Dense(2, activation='sigmoid'))\n",
        "\n",
        "# model2.compile(optimizer='adam', loss='binary_crossentropy', metrics=['accuracy'])\n",
        "\n",
        "# model2.summary()"
      ]
    },
    {
      "cell_type": "code",
      "source": [
        "# y_train_binary = np.argmax(y_train, axis=1)"
      ],
      "metadata": {
        "id": "BSYWgTTygW3r"
      },
      "execution_count": null,
      "outputs": []
    },
    {
      "cell_type": "code",
      "source": [
        "# model2.fit(X_train,y_train,epochs=30,validation_data=(X_test,y_test))"
      ],
      "metadata": {
        "id": "o4hEw_BfiesP"
      },
      "execution_count": null,
      "outputs": []
    },
    {
      "cell_type": "code",
      "source": [
        "X_train.shape\n"
      ],
      "metadata": {
        "colab": {
          "base_uri": "https://localhost:8080/"
        },
        "id": "cHoDWaeNbE_V",
        "outputId": "6d7b808c-d208-4c43-9e4a-c535651a4988"
      },
      "execution_count": null,
      "outputs": [
        {
          "output_type": "execute_result",
          "data": {
            "text/plain": [
              "(32000, 200)"
            ]
          },
          "metadata": {},
          "execution_count": 51
        }
      ]
    },
    {
      "cell_type": "code",
      "source": [
        "y_train"
      ],
      "metadata": {
        "colab": {
          "base_uri": "https://localhost:8080/"
        },
        "id": "bVffKJrmbG1A",
        "outputId": "b0572aa3-0b56-4aa4-fdb3-07446771437e"
      },
      "execution_count": null,
      "outputs": [
        {
          "output_type": "execute_result",
          "data": {
            "text/plain": [
              "array([[1., 0.],\n",
              "       [1., 0.],\n",
              "       [1., 0.],\n",
              "       ...,\n",
              "       [1., 0.],\n",
              "       [1., 0.],\n",
              "       [0., 1.]], dtype=float32)"
            ]
          },
          "metadata": {},
          "execution_count": 52
        }
      ]
    },
    {
      "cell_type": "code",
      "source": [
        "from tensorflow.keras.models import load_model, save_model\n",
        "\n",
        "\n",
        "# model2.save('/content/drive/MyDrive/my_model.h5')\n",
        "\n",
        "\n",
        "model2=load_model('/content/drive/MyDrive/my_model.h5')"
      ],
      "metadata": {
        "id": "HNhtjJGybKzh"
      },
      "execution_count": null,
      "outputs": []
    },
    {
      "cell_type": "code",
      "source": [
        "y_pred=model2.predict(X_test)\n",
        "\n",
        "y_test_=np.argmax(y_test,axis=1)\n",
        "y_pred_=np.argmax(y_pred,axis=1)\n",
        "\n",
        "print(accuracy_score(y_test_,y_pred_))"
      ],
      "metadata": {
        "id": "oJJKezFSGjO6",
        "colab": {
          "base_uri": "https://localhost:8080/"
        },
        "outputId": "e7ebb143-7336-4413-d144-a5f3d10723dc"
      },
      "execution_count": null,
      "outputs": [
        {
          "output_type": "stream",
          "name": "stdout",
          "text": [
            "250/250 [==============================] - 10s 40ms/step\n",
            "0.71225\n"
          ]
        }
      ]
    }
  ],
  "metadata": {
    "accelerator": "GPU",
    "colab": {
      "provenance": [],
      "mount_file_id": "1AM17Z5iMj9Q8H23Hz6Ai5pnQlLxWl31N",
      "authorship_tag": "ABX9TyNWWbrTtgvy38y2urVjNe+9",
      "include_colab_link": true
    },
    "kernelspec": {
      "display_name": "Python 3",
      "name": "python3"
    },
    "language_info": {
      "name": "python"
    }
  },
  "nbformat": 4,
  "nbformat_minor": 0
}